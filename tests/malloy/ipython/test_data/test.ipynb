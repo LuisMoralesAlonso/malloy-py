{
 "cells": [
  {
   "attachments": {},
   "cell_type": "markdown",
   "metadata": {},
   "source": [
    "# Test Document"
   ]
  },
  {
   "cell_type": "code",
   "execution_count": 1,
   "metadata": {},
   "outputs": [
    {
     "name": "stdout",
     "output_type": "stream",
     "text": [
      "Malloy ahoy\n"
     ]
    },
    {
     "data": {
      "text/html": [
       "\n",
       "<style>\n",
       "/* Style the tab */\n",
       ".tab {\n",
       "  overflow: hidden;\n",
       "  border: 1px solid #ccc;\n",
       "  background-color: #f1f1f1;\n",
       "}\n",
       "\n",
       "/* Style the buttons inside the tab */\n",
       ".tab button {\n",
       "  background-color: inherit;\n",
       "  float: left;\n",
       "  border: none;\n",
       "  outline: none;\n",
       "  cursor: pointer;\n",
       "  padding: 14px 16px;\n",
       "  transition: 0.3s;\n",
       "}\n",
       "\n",
       "/* Change background color of buttons on hover */\n",
       ".tab button:hover {\n",
       "  background-color: #ddd;\n",
       "}\n",
       "\n",
       "/* Create an active/current tablink class */\n",
       ".tab button.active {\n",
       "  background-color: #ccc;\n",
       "}\n",
       "\n",
       "/* Style the tab content */\n",
       ".tabcontent {\n",
       "  display: none;\n",
       "  padding: 6px 12px;\n",
       "  border: 1px solid #ccc;\n",
       "  border-top: none;\n",
       "}\n",
       "/* Style the close button */\n",
       ".topright {\n",
       "  float: right;\n",
       "  cursor: pointer;\n",
       "  font-size: 28px;\n",
       "}\n",
       "\n",
       ".topright:hover {\n",
       "  color: red;\n",
       "}\n",
       "</style>\n",
       "\n",
       "<script>\n",
       "function openTab(evt, tabName, result_set) {\n",
       "  var i, tabcontent, tablinks, cur_tabset, cur_tablinks;\n",
       "  cur_tabset = \"tabset-\" + result_set;\n",
       "  cur_tablinks = \"tablinks-\" + result_set;\n",
       "  tabcontent = document.getElementsByClassName(cur_tabset);\n",
       "  for (i = 0; i < tabcontent.length; i++) {\n",
       "    tabcontent[i].style.display = \"none\";\n",
       "  }\n",
       "  tablinks = document.getElementsByClassName(cur_tablinks);\n",
       "  for (i = 0; i < tablinks.length; i++) {\n",
       "    tablinks[i].className = tablinks[i].className.replace(\" active\", \"\");\n",
       "  }\n",
       "\n",
       "  document.getElementById(tabName).style.display = \"block\";\n",
       "  evt.currentTarget.className += \" active\";\n",
       "}\n",
       "</script>\n"
      ],
      "text/plain": [
       "<IPython.core.display.HTML object>"
      ]
     },
     "metadata": {},
     "output_type": "display_data"
    }
   ],
   "source": [
    "# @title Initialization\n",
    "\n",
    "%reload_ext malloy"
   ]
  },
  {
   "cell_type": "code",
   "execution_count": 2,
   "metadata": {},
   "outputs": [
    {
     "name": "stdout",
     "output_type": "stream",
     "text": [
      "✅ Stored in model\n"
     ]
    }
   ],
   "source": [
    "%%malloy_model model\n",
    "\n",
    "source: airports is table('duckdb:data/airports.parquet') {\n",
    "  declare:\n",
    "    airports_count is count()\n",
    "}\n"
   ]
  },
  {
   "cell_type": "code",
   "execution_count": 6,
   "metadata": {},
   "outputs": [
    {
     "name": "stdout",
     "output_type": "stream",
     "text": [
      "✅ Stored in results\n"
     ]
    }
   ],
   "source": [
    "%%malloy_query model results\n",
    "\n",
    "query: airports -> {\n",
    "  group_by: faa_region\n",
    "  aggregate:\n",
    "    airports_count\n",
    "  limit: 10\n",
    "}\n"
   ]
  },
  {
   "cell_type": "code",
   "execution_count": 4,
   "metadata": {},
   "outputs": [
    {
     "name": "stdout",
     "output_type": "stream",
     "text": [
      "  faa_region  airports_count\n",
      "0        AGL            4437\n",
      "1        ASW            3268\n",
      "2        ASO            2924\n",
      "3        AEA            2586\n",
      "4        ANM            2102\n",
      "5        ACE            1579\n",
      "6        AWP            1503\n",
      "7        ANE             763\n",
      "8        AAL             608\n",
      "9        NaN              23\n"
     ]
    }
   ],
   "source": [
    "print(results)"
   ]
  }
 ],
 "metadata": {
  "kernelspec": {
   "display_name": "Python 3",
   "language": "python",
   "name": "python3"
  },
  "language_info": {
   "codemirror_mode": {
    "name": "ipython",
    "version": 3
   },
   "file_extension": ".py",
   "mimetype": "text/x-python",
   "name": "python",
   "nbconvert_exporter": "python",
   "pygments_lexer": "ipython3",
   "version": "3.9.10"
  },
  "orig_nbformat": 4
 },
 "nbformat": 4,
 "nbformat_minor": 2
}
