{
 "cells": [
  {
   "attachments": {},
   "cell_type": "markdown",
   "metadata": {},
   "source": [
    "# Test Document"
   ]
  },
  {
   "cell_type": "code",
   "execution_count": 1,
   "metadata": {},
   "outputs": [
    {
     "name": "stdout",
     "output_type": "stream",
     "text": [
      "Malloy ahoy\n"
     ]
    }
   ],
   "source": [
    "# @title Initialization\n",
    "\n",
    "%reload_ext malloy"
   ]
  },
  {
   "cell_type": "code",
   "execution_count": 2,
   "metadata": {},
   "outputs": [
    {
     "name": "stdout",
     "output_type": "stream",
     "text": [
      "✅ Stored in model\n"
     ]
    }
   ],
   "source": [
    "%%malloy_model model\n",
    "\n",
    "source: airports is table('duckdb:data/airports.parquet') {\n",
    "  declare:\n",
    "    airports_count is count()\n",
    "}\n"
   ]
  },
  {
   "cell_type": "code",
   "execution_count": 3,
   "metadata": {},
   "outputs": [
    {
     "data": {
      "text/html": [
       "<table style=\"vertical-align: top; border-collapse: collapse; width: 100%;\"><thead><tr><th style=\"padding: 8px; text-align: left;\">faa_​region</th><th style=\"padding: 8px; text-align: right;\">airports_​count</th></tr></thead><tbody><tr><td style=\"padding: 8px; vertical-align: top;\"><span>AGL</span></td><td style=\"padding: 8px; vertical-align: top; text-align: right;\"><span>4,437</span></td></tr><tr><td style=\"padding: 8px; vertical-align: top;\"><span>ASW</span></td><td style=\"padding: 8px; vertical-align: top; text-align: right;\"><span>3,268</span></td></tr><tr><td style=\"padding: 8px; vertical-align: top;\"><span>ASO</span></td><td style=\"padding: 8px; vertical-align: top; text-align: right;\"><span>2,924</span></td></tr><tr><td style=\"padding: 8px; vertical-align: top;\"><span>AEA</span></td><td style=\"padding: 8px; vertical-align: top; text-align: right;\"><span>2,586</span></td></tr><tr><td style=\"padding: 8px; vertical-align: top;\"><span>ANM</span></td><td style=\"padding: 8px; vertical-align: top; text-align: right;\"><span>2,102</span></td></tr><tr><td style=\"padding: 8px; vertical-align: top;\"><span>ACE</span></td><td style=\"padding: 8px; vertical-align: top; text-align: right;\"><span>1,579</span></td></tr><tr><td style=\"padding: 8px; vertical-align: top;\"><span>AWP</span></td><td style=\"padding: 8px; vertical-align: top; text-align: right;\"><span>1,503</span></td></tr><tr><td style=\"padding: 8px; vertical-align: top;\"><span>ANE</span></td><td style=\"padding: 8px; vertical-align: top; text-align: right;\"><span>763</span></td></tr><tr><td style=\"padding: 8px; vertical-align: top;\"><span>AAL</span></td><td style=\"padding: 8px; vertical-align: top; text-align: right;\"><span>608</span></td></tr><tr><td style=\"padding: 8px; vertical-align: top;\"><span class=\"value-null\">∅</span></td><td style=\"padding: 8px; vertical-align: top; text-align: right;\"><span>23</span></td></tr></tbody></table>"
      ],
      "text/plain": [
       "<IPython.core.display.HTML object>"
      ]
     },
     "metadata": {},
     "output_type": "display_data"
    },
    {
     "name": "stdout",
     "output_type": "stream",
     "text": [
      "✅ Stored in results\n"
     ]
    }
   ],
   "source": [
    "%%malloy_query model results\n",
    "\n",
    "query: airports -> {\n",
    "  group_by: faa_region\n",
    "  aggregate:\n",
    "    airports_count\n",
    "  limit: 10\n",
    "}\n"
   ]
  },
  {
   "cell_type": "code",
   "execution_count": 4,
   "metadata": {},
   "outputs": [
    {
     "name": "stdout",
     "output_type": "stream",
     "text": [
      "  faa_region  airports_count\n",
      "0        AGL            4437\n",
      "1        ASW            3268\n",
      "2        ASO            2924\n",
      "3        AEA            2586\n",
      "4        ANM            2102\n",
      "5        ACE            1579\n",
      "6        AWP            1503\n",
      "7        ANE             763\n",
      "8        AAL             608\n",
      "9        NaN              23\n"
     ]
    }
   ],
   "source": [
    "print(results)"
   ]
  }
 ],
 "metadata": {
  "kernelspec": {
   "display_name": "Python 3",
   "language": "python",
   "name": "python3"
  },
  "language_info": {
   "codemirror_mode": {
    "name": "ipython",
    "version": 3
   },
   "file_extension": ".py",
   "mimetype": "text/x-python",
   "name": "python",
   "nbconvert_exporter": "python",
   "pygments_lexer": "ipython3",
   "version": "3.9.10"
  },
  "orig_nbformat": 4
 },
 "nbformat": 4,
 "nbformat_minor": 2
}
